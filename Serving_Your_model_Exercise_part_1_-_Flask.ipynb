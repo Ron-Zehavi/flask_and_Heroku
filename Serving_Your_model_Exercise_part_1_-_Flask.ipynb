{
 "cells": [
  {
   "cell_type": "markdown",
   "metadata": {},
   "source": [
    "# Serving your model exercise. Part 1 - Flask"
   ]
  },
  {
   "cell_type": "markdown",
   "metadata": {},
   "source": [
    "## Intro\n",
    "Reminder, there will usually be 3 different places where the code relevant to our model prediction runs:\n",
    "1. **Training computer / server** - where we train our model and save it\n",
    "2. **Inference server** - server that listens to REST API requests to make predictions / inferences with the model that was trained on the model server. Potentially, we could have many such servers. \n",
    "3. **Client** - client application (browser, mobile app etc.) that needs a prediction, and requests from **inference server** over HTTP with REST API to make the prediction"
   ]
  },
  {
   "cell_type": "markdown",
   "metadata": {},
   "source": [
    "## 1. Getting to a trained model\n",
    "- Choose one of the models you trained in one the previous exercises or any other model. **Do not take something from many Flask examples online!**"
   ]
  },
  {
   "cell_type": "code",
   "execution_count": 7,
   "metadata": {},
   "outputs": [],
   "source": [
    "import pandas as pd\n",
    "from matplotlib import pyplot as plt\n",
    "import seaborn as sns\n",
    "from sklearn.model_selection import train_test_split\n",
    "from sklearn.ensemble import RandomForestRegressor\n",
    "import math\n",
    "from sklearn.metrics import mean_squared_error, r2_score\n",
    "from sklearn.model_selection import GridSearchCV\n"
   ]
  },
  {
   "cell_type": "code",
   "execution_count": 8,
   "metadata": {},
   "outputs": [
    {
     "data": {
      "text/html": [
       "<div>\n",
       "<style scoped>\n",
       "    .dataframe tbody tr th:only-of-type {\n",
       "        vertical-align: middle;\n",
       "    }\n",
       "\n",
       "    .dataframe tbody tr th {\n",
       "        vertical-align: top;\n",
       "    }\n",
       "\n",
       "    .dataframe thead th {\n",
       "        text-align: right;\n",
       "    }\n",
       "</style>\n",
       "<table border=\"1\" class=\"dataframe\">\n",
       "  <thead>\n",
       "    <tr style=\"text-align: right;\">\n",
       "      <th></th>\n",
       "      <th>name</th>\n",
       "      <th>year</th>\n",
       "      <th>selling_price</th>\n",
       "      <th>km_driven</th>\n",
       "      <th>fuel</th>\n",
       "      <th>seller_type</th>\n",
       "      <th>transmission</th>\n",
       "      <th>owner</th>\n",
       "    </tr>\n",
       "  </thead>\n",
       "  <tbody>\n",
       "    <tr>\n",
       "      <th>831</th>\n",
       "      <td>Tata Nano Lx</td>\n",
       "      <td>2011</td>\n",
       "      <td>120000.0</td>\n",
       "      <td>20000.0</td>\n",
       "      <td>Petrol</td>\n",
       "      <td>Individual</td>\n",
       "      <td>Manual</td>\n",
       "      <td>First Owner</td>\n",
       "    </tr>\n",
       "    <tr>\n",
       "      <th>2305</th>\n",
       "      <td>Maruti Celerio ZXI MT BSIV</td>\n",
       "      <td>2019</td>\n",
       "      <td>425000.0</td>\n",
       "      <td>3700.0</td>\n",
       "      <td>Petrol</td>\n",
       "      <td>Individual</td>\n",
       "      <td>Manual</td>\n",
       "      <td>First Owner</td>\n",
       "    </tr>\n",
       "    <tr>\n",
       "      <th>303</th>\n",
       "      <td>Chevrolet Sail 1.2 LT ABS</td>\n",
       "      <td>2014</td>\n",
       "      <td>350000.0</td>\n",
       "      <td>30000.0</td>\n",
       "      <td>Petrol</td>\n",
       "      <td>Individual</td>\n",
       "      <td>Manual</td>\n",
       "      <td>First Owner</td>\n",
       "    </tr>\n",
       "    <tr>\n",
       "      <th>1518</th>\n",
       "      <td>Maruti Wagon R VXI</td>\n",
       "      <td>2014</td>\n",
       "      <td>315000.0</td>\n",
       "      <td>41000.0</td>\n",
       "      <td>Petrol</td>\n",
       "      <td>Dealer</td>\n",
       "      <td>Manual</td>\n",
       "      <td>First Owner</td>\n",
       "    </tr>\n",
       "    <tr>\n",
       "      <th>338</th>\n",
       "      <td>Maruti Swift Dzire VDI</td>\n",
       "      <td>2015</td>\n",
       "      <td>490000.0</td>\n",
       "      <td>60000.0</td>\n",
       "      <td>Diesel</td>\n",
       "      <td>Individual</td>\n",
       "      <td>Manual</td>\n",
       "      <td>Second Owner</td>\n",
       "    </tr>\n",
       "    <tr>\n",
       "      <th>2110</th>\n",
       "      <td>Hyundai i10 Sportz 1.2</td>\n",
       "      <td>2010</td>\n",
       "      <td>210000.0</td>\n",
       "      <td>60000.0</td>\n",
       "      <td>Petrol</td>\n",
       "      <td>Individual</td>\n",
       "      <td>Manual</td>\n",
       "      <td>Second Owner</td>\n",
       "    </tr>\n",
       "    <tr>\n",
       "      <th>644</th>\n",
       "      <td>Tata Hexa XT 4X4</td>\n",
       "      <td>2017</td>\n",
       "      <td>1600000.0</td>\n",
       "      <td>3000.0</td>\n",
       "      <td>Diesel</td>\n",
       "      <td>Individual</td>\n",
       "      <td>Manual</td>\n",
       "      <td>First Owner</td>\n",
       "    </tr>\n",
       "    <tr>\n",
       "      <th>3121</th>\n",
       "      <td>Volkswagen Polo 1.2 MPI Highline</td>\n",
       "      <td>2014</td>\n",
       "      <td>425000.0</td>\n",
       "      <td>40000.0</td>\n",
       "      <td>Petrol</td>\n",
       "      <td>Individual</td>\n",
       "      <td>Manual</td>\n",
       "      <td>First Owner</td>\n",
       "    </tr>\n",
       "  </tbody>\n",
       "</table>\n",
       "</div>"
      ],
      "text/plain": [
       "                                  name  year  selling_price  km_driven  \\\n",
       "831                       Tata Nano Lx  2011       120000.0    20000.0   \n",
       "2305        Maruti Celerio ZXI MT BSIV  2019       425000.0     3700.0   \n",
       "303          Chevrolet Sail 1.2 LT ABS  2014       350000.0    30000.0   \n",
       "1518                Maruti Wagon R VXI  2014       315000.0    41000.0   \n",
       "338             Maruti Swift Dzire VDI  2015       490000.0    60000.0   \n",
       "2110            Hyundai i10 Sportz 1.2  2010       210000.0    60000.0   \n",
       "644                   Tata Hexa XT 4X4  2017      1600000.0     3000.0   \n",
       "3121  Volkswagen Polo 1.2 MPI Highline  2014       425000.0    40000.0   \n",
       "\n",
       "        fuel seller_type transmission         owner  \n",
       "831   Petrol  Individual       Manual   First Owner  \n",
       "2305  Petrol  Individual       Manual   First Owner  \n",
       "303   Petrol  Individual       Manual   First Owner  \n",
       "1518  Petrol      Dealer       Manual   First Owner  \n",
       "338   Diesel  Individual       Manual  Second Owner  \n",
       "2110  Petrol  Individual       Manual  Second Owner  \n",
       "644   Diesel  Individual       Manual   First Owner  \n",
       "3121  Petrol  Individual       Manual   First Owner  "
      ]
     },
     "execution_count": 8,
     "metadata": {},
     "output_type": "execute_result"
    }
   ],
   "source": [
    "df = pd.read_csv(r'dataset_cars.csv')\n",
    "df.sample(8)"
   ]
  },
  {
   "cell_type": "markdown",
   "metadata": {},
   "source": [
    "- Specify where can one download the dataset from (to be used during checking the exercise)"
   ]
  },
  {
   "cell_type": "markdown",
   "metadata": {},
   "source": [
    "Attached"
   ]
  },
  {
   "cell_type": "markdown",
   "metadata": {},
   "source": [
    "- Say in one word what is the business problem and what you are predicting "
   ]
  },
  {
   "cell_type": "markdown",
   "metadata": {},
   "source": [
    "Price"
   ]
  },
  {
   "cell_type": "markdown",
   "metadata": {},
   "source": [
    "- Preprocess, split to train and test dataset"
   ]
  },
  {
   "cell_type": "code",
   "execution_count": 9,
   "metadata": {},
   "outputs": [
    {
     "data": {
      "text/plain": [
       "(4340, 8)"
      ]
     },
     "execution_count": 9,
     "metadata": {},
     "output_type": "execute_result"
    }
   ],
   "source": [
    "df.shape"
   ]
  },
  {
   "cell_type": "code",
   "execution_count": 10,
   "metadata": {},
   "outputs": [
    {
     "name": "stdout",
     "output_type": "stream",
     "text": [
      "<class 'pandas.core.frame.DataFrame'>\n",
      "RangeIndex: 4340 entries, 0 to 4339\n",
      "Data columns (total 8 columns):\n",
      " #   Column         Non-Null Count  Dtype  \n",
      "---  ------         --------------  -----  \n",
      " 0   name           4340 non-null   object \n",
      " 1   year           4340 non-null   int64  \n",
      " 2   selling_price  4339 non-null   float64\n",
      " 3   km_driven      4336 non-null   float64\n",
      " 4   fuel           4337 non-null   object \n",
      " 5   seller_type    4340 non-null   object \n",
      " 6   transmission   4340 non-null   object \n",
      " 7   owner          4340 non-null   object \n",
      "dtypes: float64(2), int64(1), object(5)\n",
      "memory usage: 271.4+ KB\n"
     ]
    }
   ],
   "source": [
    "df.info()"
   ]
  },
  {
   "cell_type": "code",
   "execution_count": 11,
   "metadata": {},
   "outputs": [
    {
     "data": {
      "text/html": [
       "<div>\n",
       "<style scoped>\n",
       "    .dataframe tbody tr th:only-of-type {\n",
       "        vertical-align: middle;\n",
       "    }\n",
       "\n",
       "    .dataframe tbody tr th {\n",
       "        vertical-align: top;\n",
       "    }\n",
       "\n",
       "    .dataframe thead th {\n",
       "        text-align: right;\n",
       "    }\n",
       "</style>\n",
       "<table border=\"1\" class=\"dataframe\">\n",
       "  <thead>\n",
       "    <tr style=\"text-align: right;\">\n",
       "      <th></th>\n",
       "      <th>year</th>\n",
       "      <th>selling_price</th>\n",
       "      <th>km_driven</th>\n",
       "    </tr>\n",
       "  </thead>\n",
       "  <tbody>\n",
       "    <tr>\n",
       "      <th>count</th>\n",
       "      <td>4340</td>\n",
       "      <td>4339</td>\n",
       "      <td>4336</td>\n",
       "    </tr>\n",
       "    <tr>\n",
       "      <th>mean</th>\n",
       "      <td>2013.09</td>\n",
       "      <td>504090</td>\n",
       "      <td>66222</td>\n",
       "    </tr>\n",
       "    <tr>\n",
       "      <th>std</th>\n",
       "      <td>4.21534</td>\n",
       "      <td>578610</td>\n",
       "      <td>46661.1</td>\n",
       "    </tr>\n",
       "    <tr>\n",
       "      <th>min</th>\n",
       "      <td>1992</td>\n",
       "      <td>20000</td>\n",
       "      <td>1</td>\n",
       "    </tr>\n",
       "    <tr>\n",
       "      <th>25%</th>\n",
       "      <td>2011</td>\n",
       "      <td>207500</td>\n",
       "      <td>35000</td>\n",
       "    </tr>\n",
       "    <tr>\n",
       "      <th>50%</th>\n",
       "      <td>2014</td>\n",
       "      <td>350000</td>\n",
       "      <td>60000</td>\n",
       "    </tr>\n",
       "    <tr>\n",
       "      <th>75%</th>\n",
       "      <td>2016</td>\n",
       "      <td>600000</td>\n",
       "      <td>90000</td>\n",
       "    </tr>\n",
       "    <tr>\n",
       "      <th>max</th>\n",
       "      <td>2020</td>\n",
       "      <td>8.9e+06</td>\n",
       "      <td>806599</td>\n",
       "    </tr>\n",
       "  </tbody>\n",
       "</table>\n",
       "</div>"
      ],
      "text/plain": [
       "          year selling_price km_driven\n",
       "count     4340          4339      4336\n",
       "mean   2013.09        504090     66222\n",
       "std    4.21534        578610   46661.1\n",
       "min       1992         20000         1\n",
       "25%       2011        207500     35000\n",
       "50%       2014        350000     60000\n",
       "75%       2016        600000     90000\n",
       "max       2020       8.9e+06    806599"
      ]
     },
     "execution_count": 11,
     "metadata": {},
     "output_type": "execute_result"
    }
   ],
   "source": [
    "df.describe().apply(lambda s: s.apply(lambda x: format(x, 'g')))"
   ]
  },
  {
   "cell_type": "markdown",
   "metadata": {},
   "source": [
    "**Number of unique values for each feature:**"
   ]
  },
  {
   "cell_type": "code",
   "execution_count": 12,
   "metadata": {},
   "outputs": [
    {
     "data": {
      "text/html": [
       "<div>\n",
       "<style scoped>\n",
       "    .dataframe tbody tr th:only-of-type {\n",
       "        vertical-align: middle;\n",
       "    }\n",
       "\n",
       "    .dataframe tbody tr th {\n",
       "        vertical-align: top;\n",
       "    }\n",
       "\n",
       "    .dataframe thead th {\n",
       "        text-align: right;\n",
       "    }\n",
       "</style>\n",
       "<table border=\"1\" class=\"dataframe\">\n",
       "  <thead>\n",
       "    <tr style=\"text-align: right;\">\n",
       "      <th></th>\n",
       "      <th>num_of_unique_values</th>\n",
       "    </tr>\n",
       "  </thead>\n",
       "  <tbody>\n",
       "    <tr>\n",
       "      <th>name</th>\n",
       "      <td>1491</td>\n",
       "    </tr>\n",
       "    <tr>\n",
       "      <th>year</th>\n",
       "      <td>27</td>\n",
       "    </tr>\n",
       "    <tr>\n",
       "      <th>selling_price</th>\n",
       "      <td>445</td>\n",
       "    </tr>\n",
       "    <tr>\n",
       "      <th>km_driven</th>\n",
       "      <td>770</td>\n",
       "    </tr>\n",
       "    <tr>\n",
       "      <th>fuel</th>\n",
       "      <td>5</td>\n",
       "    </tr>\n",
       "    <tr>\n",
       "      <th>seller_type</th>\n",
       "      <td>5</td>\n",
       "    </tr>\n",
       "    <tr>\n",
       "      <th>transmission</th>\n",
       "      <td>2</td>\n",
       "    </tr>\n",
       "    <tr>\n",
       "      <th>owner</th>\n",
       "      <td>9</td>\n",
       "    </tr>\n",
       "  </tbody>\n",
       "</table>\n",
       "</div>"
      ],
      "text/plain": [
       "               num_of_unique_values\n",
       "name                           1491\n",
       "year                             27\n",
       "selling_price                   445\n",
       "km_driven                       770\n",
       "fuel                              5\n",
       "seller_type                       5\n",
       "transmission                      2\n",
       "owner                             9"
      ]
     },
     "execution_count": 12,
     "metadata": {},
     "output_type": "execute_result"
    }
   ],
   "source": [
    "pd.DataFrame(df.apply((lambda x: x.value_counts().count())), columns=['num_of_unique_values'])"
   ]
  },
  {
   "cell_type": "markdown",
   "metadata": {},
   "source": [
    "**Missing values:**"
   ]
  },
  {
   "cell_type": "code",
   "execution_count": 13,
   "metadata": {},
   "outputs": [
    {
     "data": {
      "text/html": [
       "<div>\n",
       "<style scoped>\n",
       "    .dataframe tbody tr th:only-of-type {\n",
       "        vertical-align: middle;\n",
       "    }\n",
       "\n",
       "    .dataframe tbody tr th {\n",
       "        vertical-align: top;\n",
       "    }\n",
       "\n",
       "    .dataframe thead th {\n",
       "        text-align: right;\n",
       "    }\n",
       "</style>\n",
       "<table border=\"1\" class=\"dataframe\">\n",
       "  <thead>\n",
       "    <tr style=\"text-align: right;\">\n",
       "      <th></th>\n",
       "      <th>Missing_Count</th>\n",
       "    </tr>\n",
       "  </thead>\n",
       "  <tbody>\n",
       "    <tr>\n",
       "      <th>selling_price</th>\n",
       "      <td>1</td>\n",
       "    </tr>\n",
       "    <tr>\n",
       "      <th>km_driven</th>\n",
       "      <td>4</td>\n",
       "    </tr>\n",
       "    <tr>\n",
       "      <th>fuel</th>\n",
       "      <td>3</td>\n",
       "    </tr>\n",
       "  </tbody>\n",
       "</table>\n",
       "</div>"
      ],
      "text/plain": [
       "               Missing_Count\n",
       "selling_price              1\n",
       "km_driven                  4\n",
       "fuel                       3"
      ]
     },
     "execution_count": 13,
     "metadata": {},
     "output_type": "execute_result"
    }
   ],
   "source": [
    "pd.DataFrame(df.isna().sum()[(df.isna().sum())>0], columns=['Missing_Count'])"
   ]
  },
  {
   "cell_type": "markdown",
   "metadata": {},
   "source": [
    "dropping duplicates:"
   ]
  },
  {
   "cell_type": "code",
   "execution_count": 14,
   "metadata": {},
   "outputs": [],
   "source": [
    "df = df.drop_duplicates()"
   ]
  },
  {
   "cell_type": "markdown",
   "metadata": {},
   "source": [
    "Check that all the SalePrice is not null, and delete the rows if the value is null:"
   ]
  },
  {
   "cell_type": "code",
   "execution_count": 15,
   "metadata": {},
   "outputs": [
    {
     "data": {
      "text/plain": [
       "(3582, 8)"
      ]
     },
     "execution_count": 15,
     "metadata": {},
     "output_type": "execute_result"
    }
   ],
   "source": [
    "df.shape"
   ]
  },
  {
   "cell_type": "code",
   "execution_count": 16,
   "metadata": {},
   "outputs": [],
   "source": [
    "df = df.dropna(axis=0)"
   ]
  },
  {
   "cell_type": "code",
   "execution_count": 17,
   "metadata": {},
   "outputs": [
    {
     "data": {
      "text/plain": [
       "(3574, 8)"
      ]
     },
     "execution_count": 17,
     "metadata": {},
     "output_type": "execute_result"
    }
   ],
   "source": [
    "df.shape"
   ]
  },
  {
   "cell_type": "markdown",
   "metadata": {},
   "source": [
    "merging values of an individual and values of a seller:"
   ]
  },
  {
   "cell_type": "code",
   "execution_count": 18,
   "metadata": {},
   "outputs": [
    {
     "data": {
      "text/plain": [
       "Individual    2831\n",
       "Dealer         743\n",
       "Name: seller_type, dtype: int64"
      ]
     },
     "execution_count": 18,
     "metadata": {},
     "output_type": "execute_result"
    }
   ],
   "source": [
    "df['seller_type'].replace(['Indi','Indi.'], 'Individual', inplace = True)\n",
    "df['seller_type'].replace(['Trustmark Dealer'], 'Dealer', inplace = True)\n",
    "\n",
    "df.seller_type.value_counts()"
   ]
  },
  {
   "cell_type": "code",
   "execution_count": 19,
   "metadata": {},
   "outputs": [
    {
     "data": {
      "text/html": [
       "<div>\n",
       "<style scoped>\n",
       "    .dataframe tbody tr th:only-of-type {\n",
       "        vertical-align: middle;\n",
       "    }\n",
       "\n",
       "    .dataframe tbody tr th {\n",
       "        vertical-align: top;\n",
       "    }\n",
       "\n",
       "    .dataframe thead th {\n",
       "        text-align: right;\n",
       "    }\n",
       "</style>\n",
       "<table border=\"1\" class=\"dataframe\">\n",
       "  <thead>\n",
       "    <tr style=\"text-align: right;\">\n",
       "      <th></th>\n",
       "      <th>name</th>\n",
       "      <th>year</th>\n",
       "      <th>selling_price</th>\n",
       "      <th>km_driven</th>\n",
       "      <th>fuel</th>\n",
       "      <th>seller_type</th>\n",
       "      <th>transmission</th>\n",
       "      <th>owner</th>\n",
       "    </tr>\n",
       "  </thead>\n",
       "  <tbody>\n",
       "    <tr>\n",
       "      <th>0</th>\n",
       "      <td>Maruti 800 AC</td>\n",
       "      <td>2007</td>\n",
       "      <td>60000.0</td>\n",
       "      <td>70000.0</td>\n",
       "      <td>Petrol</td>\n",
       "      <td>Individual</td>\n",
       "      <td>Manual</td>\n",
       "      <td>First Owner</td>\n",
       "    </tr>\n",
       "    <tr>\n",
       "      <th>1</th>\n",
       "      <td>Maruti Wagon R LXI Minor</td>\n",
       "      <td>2007</td>\n",
       "      <td>135000.0</td>\n",
       "      <td>50000.0</td>\n",
       "      <td>Petrol</td>\n",
       "      <td>Individual</td>\n",
       "      <td>Manual</td>\n",
       "      <td>First Owner</td>\n",
       "    </tr>\n",
       "    <tr>\n",
       "      <th>2</th>\n",
       "      <td>Hyundai Verna 1.6 SX</td>\n",
       "      <td>2012</td>\n",
       "      <td>600000.0</td>\n",
       "      <td>100000.0</td>\n",
       "      <td>Diesel</td>\n",
       "      <td>Individual</td>\n",
       "      <td>Manual</td>\n",
       "      <td>First Owner</td>\n",
       "    </tr>\n",
       "    <tr>\n",
       "      <th>3</th>\n",
       "      <td>Datsun RediGO T Option</td>\n",
       "      <td>2017</td>\n",
       "      <td>250000.0</td>\n",
       "      <td>46000.0</td>\n",
       "      <td>Petrol</td>\n",
       "      <td>Individual</td>\n",
       "      <td>Manual</td>\n",
       "      <td>First Owner</td>\n",
       "    </tr>\n",
       "    <tr>\n",
       "      <th>4</th>\n",
       "      <td>Honda Amaze VX i-DTEC</td>\n",
       "      <td>2014</td>\n",
       "      <td>450000.0</td>\n",
       "      <td>141000.0</td>\n",
       "      <td>Diesel</td>\n",
       "      <td>Individual</td>\n",
       "      <td>Manual</td>\n",
       "      <td>Second Owner</td>\n",
       "    </tr>\n",
       "  </tbody>\n",
       "</table>\n",
       "</div>"
      ],
      "text/plain": [
       "                       name  year  selling_price  km_driven    fuel  \\\n",
       "0             Maruti 800 AC  2007        60000.0    70000.0  Petrol   \n",
       "1  Maruti Wagon R LXI Minor  2007       135000.0    50000.0  Petrol   \n",
       "2      Hyundai Verna 1.6 SX  2012       600000.0   100000.0  Diesel   \n",
       "3    Datsun RediGO T Option  2017       250000.0    46000.0  Petrol   \n",
       "4     Honda Amaze VX i-DTEC  2014       450000.0   141000.0  Diesel   \n",
       "\n",
       "  seller_type transmission         owner  \n",
       "0  Individual       Manual   First Owner  \n",
       "1  Individual       Manual   First Owner  \n",
       "2  Individual       Manual   First Owner  \n",
       "3  Individual       Manual   First Owner  \n",
       "4  Individual       Manual  Second Owner  "
      ]
     },
     "execution_count": 19,
     "metadata": {},
     "output_type": "execute_result"
    }
   ],
   "source": [
    "df.head()"
   ]
  },
  {
   "cell_type": "code",
   "execution_count": 20,
   "metadata": {
    "scrolled": true
   },
   "outputs": [],
   "source": [
    "df['owner'].replace({\n",
    "        \"First Owner\": 1,\n",
    "        \"Second Owner\": 2,\n",
    "        \"Third Owner\": 3,\n",
    "        \"Fourth Owner\": 4,\n",
    "        \"Fifth Owner\": 4,\n",
    "        \"Sixth Owner\": 4,\n",
    "        \"Seventh Owner\": 4,\n",
    "        \"Eighth Owner\": 4,\n",
    "        \"Test Drive Car\": 0},\n",
    "        inplace=True)"
   ]
  },
  {
   "cell_type": "code",
   "execution_count": 21,
   "metadata": {},
   "outputs": [
    {
     "data": {
      "text/plain": [
       "1    2214\n",
       "2     976\n",
       "3     289\n",
       "4      78\n",
       "0      17\n",
       "Name: owner, dtype: int64"
      ]
     },
     "execution_count": 21,
     "metadata": {},
     "output_type": "execute_result"
    }
   ],
   "source": [
    "df['owner'].value_counts()"
   ]
  },
  {
   "cell_type": "code",
   "execution_count": 22,
   "metadata": {},
   "outputs": [],
   "source": [
    "df['fuel'].replace({\n",
    "    \"CNG\": 'Other',\n",
    "    \"LPG\": 'Other',\n",
    "    \"Electric\": 'Other'\n",
    "},\n",
    "                   inplace=True)"
   ]
  },
  {
   "cell_type": "markdown",
   "metadata": {},
   "source": [
    "grouping cars by manufacturer"
   ]
  },
  {
   "cell_type": "code",
   "execution_count": 23,
   "metadata": {},
   "outputs": [],
   "source": [
    "df.name = df['name'].apply(lambda x: x.split()[0])"
   ]
  },
  {
   "cell_type": "markdown",
   "metadata": {},
   "source": [
    "merging manufacturers with less than 1 percent into 'Other'"
   ]
  },
  {
   "cell_type": "code",
   "execution_count": 24,
   "metadata": {},
   "outputs": [],
   "source": [
    "rares = df['name'].value_counts()[-17:].index\n",
    "for rare in rares:\n",
    "    df.name.replace(rare, 'Other', inplace=True)"
   ]
  },
  {
   "cell_type": "markdown",
   "metadata": {},
   "source": [
    "merging years before 2003 (all contain less than 1 percent) into 2003"
   ]
  },
  {
   "cell_type": "code",
   "execution_count": 25,
   "metadata": {},
   "outputs": [],
   "source": [
    "rares = df['year'].value_counts()[-10:].index\n",
    "for rare in rares:\n",
    "    df.year.replace(rare, 2003, inplace=True)"
   ]
  },
  {
   "cell_type": "code",
   "execution_count": 26,
   "metadata": {},
   "outputs": [],
   "source": [
    "def plot_continuous_dist(data, feature, color):\n",
    "    f, (ax_box, ax_hist) = plt.subplots(2, sharex=True, gridspec_kw={\"height_ratios\": (.2, .8)}, \n",
    "                                        figsize=(16,9))\n",
    "    ax_box.set(title=f\"\\n{feature} distribution\")\n",
    "    sns.boxplot(data[feature], ax=ax_box, color=color)\n",
    "    sns.distplot(data[feature], ax=ax_hist, color=color)\n",
    "    ax_box.set(xlabel='')\n",
    "    plt.tight_layout()\n",
    "    plt.show()"
   ]
  },
  {
   "cell_type": "code",
   "execution_count": 27,
   "metadata": {},
   "outputs": [
    {
     "data": {
      "image/png": "[encoded data removed]",
      "text/plain": [
       "<Figure size 1152x648 with 2 Axes>"
      ]
     },
     "metadata": {
      "needs_background": "light"
     },
     "output_type": "display_data"
    }
   ],
   "source": [
    "plot_continuous_dist(df, 'km_driven', 'blue')"
   ]
  },
  {
   "cell_type": "markdown",
   "metadata": {},
   "source": [
    "cutting outliers, check how many values are above 300K"
   ]
  },
  {
   "cell_type": "code",
   "execution_count": 28,
   "metadata": {},
   "outputs": [
    {
     "data": {
      "text/plain": [
       "11"
      ]
     },
     "execution_count": 28,
     "metadata": {},
     "output_type": "execute_result"
    }
   ],
   "source": [
    "(df['km_driven']>=300000).sum()"
   ]
  },
  {
   "cell_type": "code",
   "execution_count": 29,
   "metadata": {},
   "outputs": [],
   "source": [
    "df = df[df['km_driven']<300000]"
   ]
  },
  {
   "cell_type": "code",
   "execution_count": 30,
   "metadata": {},
   "outputs": [
    {
     "data": {
      "image/png": "[encoded data removed]",
      "text/plain": [
       "<Figure size 1152x648 with 2 Axes>"
      ]
     },
     "metadata": {
      "needs_background": "light"
     },
     "output_type": "display_data"
    }
   ],
   "source": [
    "plot_continuous_dist(df, 'km_driven', 'blue')"
   ]
  },
  {
   "cell_type": "code",
   "execution_count": 31,
   "metadata": {},
   "outputs": [
    {
     "data": {
      "image/png": "[encoded data removed]",
      "text/plain": [
       "<Figure size 1152x648 with 2 Axes>"
      ]
     },
     "metadata": {
      "needs_background": "light"
     },
     "output_type": "display_data"
    }
   ],
   "source": [
    "plot_continuous_dist(df, 'selling_price', 'orange')"
   ]
  },
  {
   "cell_type": "code",
   "execution_count": 32,
   "metadata": {},
   "outputs": [
    {
     "data": {
      "text/plain": [
       "(3563, 8)"
      ]
     },
     "execution_count": 32,
     "metadata": {},
     "output_type": "execute_result"
    }
   ],
   "source": [
    "df.shape"
   ]
  },
  {
   "cell_type": "code",
   "execution_count": 33,
   "metadata": {},
   "outputs": [
    {
     "name": "stdout",
     "output_type": "stream",
     "text": [
      "\n",
      "\n",
      " Maruti        1070\n",
      "Hyundai        636\n",
      "Mahindra       328\n",
      "Tata           306\n",
      "Ford           221\n",
      "Honda          214\n",
      "Other          171\n",
      "Toyota         165\n",
      "Chevrolet      150\n",
      "Renault        109\n",
      "Volkswagen      92\n",
      "Nissan          52\n",
      "Skoda           49\n",
      "Name: name, dtype: int64\n",
      "\n",
      "\n",
      " 2017    346\n",
      "2012    338\n",
      "2015    332\n",
      "2014    319\n",
      "2013    297\n",
      "2018    295\n",
      "2016    280\n",
      "2011    246\n",
      "2010    206\n",
      "2009    168\n",
      "2019    162\n",
      "2008    129\n",
      "2007    117\n",
      "2003     94\n",
      "2006     90\n",
      "2005     61\n",
      "2020     45\n",
      "2004     38\n",
      "Name: year, dtype: int64\n",
      "\n",
      "\n",
      " 300000.0    137\n",
      "250000.0    111\n",
      "350000.0    104\n",
      "500000.0     87\n",
      "600000.0     84\n",
      "           ... \n",
      "173000.0      1\n",
      "48000.0       1\n",
      "641000.0      1\n",
      "193000.0      1\n",
      "256000.0      1\n",
      "Name: selling_price, Length: 444, dtype: int64\n",
      "\n",
      "\n",
      " 70000.0     211\n",
      "120000.0    199\n",
      "80000.0     199\n",
      "60000.0     194\n",
      "50000.0     180\n",
      "           ... \n",
      "270000.0      1\n",
      "44800.0       1\n",
      "4500.0        1\n",
      "92686.0       1\n",
      "41723.0       1\n",
      "Name: km_driven, Length: 763, dtype: int64\n",
      "\n",
      "\n",
      " Diesel    1791\n",
      "Petrol    1712\n",
      "Other       60\n",
      "Name: fuel, dtype: int64\n",
      "\n",
      "\n",
      " Individual    2823\n",
      "Dealer         740\n",
      "Name: seller_type, dtype: int64\n",
      "\n",
      "\n",
      " Manual       3252\n",
      "Automatic     311\n",
      "Name: transmission, dtype: int64\n",
      "\n",
      "\n",
      " 1    2209\n",
      "2     974\n",
      "3     285\n",
      "4      78\n",
      "0      17\n",
      "Name: owner, dtype: int64\n"
     ]
    }
   ],
   "source": [
    "for feat in df.columns:\n",
    "    print(\"\\n\\n\", df[feat].value_counts())"
   ]
  },
  {
   "cell_type": "code",
   "execution_count": 34,
   "metadata": {},
   "outputs": [
    {
     "data": {
      "text/plain": [
       "(3563, 24)"
      ]
     },
     "execution_count": 34,
     "metadata": {},
     "output_type": "execute_result"
    }
   ],
   "source": [
    "df = pd.get_dummies(df)\n",
    "df.shape"
   ]
  },
  {
   "cell_type": "code",
   "execution_count": 35,
   "metadata": {},
   "outputs": [
    {
     "name": "stdout",
     "output_type": "stream",
     "text": [
      "<class 'pandas.core.frame.DataFrame'>\n",
      "Int64Index: 3563 entries, 0 to 4339\n",
      "Data columns (total 24 columns):\n",
      " #   Column                  Non-Null Count  Dtype  \n",
      "---  ------                  --------------  -----  \n",
      " 0   year                    3563 non-null   int64  \n",
      " 1   selling_price           3563 non-null   float64\n",
      " 2   km_driven               3563 non-null   float64\n",
      " 3   owner                   3563 non-null   int64  \n",
      " 4   name_Chevrolet          3563 non-null   uint8  \n",
      " 5   name_Ford               3563 non-null   uint8  \n",
      " 6   name_Honda              3563 non-null   uint8  \n",
      " 7   name_Hyundai            3563 non-null   uint8  \n",
      " 8   name_Mahindra           3563 non-null   uint8  \n",
      " 9   name_Maruti             3563 non-null   uint8  \n",
      " 10  name_Nissan             3563 non-null   uint8  \n",
      " 11  name_Other              3563 non-null   uint8  \n",
      " 12  name_Renault            3563 non-null   uint8  \n",
      " 13  name_Skoda              3563 non-null   uint8  \n",
      " 14  name_Tata               3563 non-null   uint8  \n",
      " 15  name_Toyota             3563 non-null   uint8  \n",
      " 16  name_Volkswagen         3563 non-null   uint8  \n",
      " 17  fuel_Diesel             3563 non-null   uint8  \n",
      " 18  fuel_Other              3563 non-null   uint8  \n",
      " 19  fuel_Petrol             3563 non-null   uint8  \n",
      " 20  seller_type_Dealer      3563 non-null   uint8  \n",
      " 21  seller_type_Individual  3563 non-null   uint8  \n",
      " 22  transmission_Automatic  3563 non-null   uint8  \n",
      " 23  transmission_Manual     3563 non-null   uint8  \n",
      "dtypes: float64(2), int64(2), uint8(20)\n",
      "memory usage: 208.8 KB\n"
     ]
    }
   ],
   "source": [
    "df.info()"
   ]
  },
  {
   "cell_type": "code",
   "execution_count": 36,
   "metadata": {},
   "outputs": [],
   "source": [
    "X = df.drop('selling_price', axis=1)\n",
    "y = df['selling_price']"
   ]
  },
  {
   "cell_type": "code",
   "execution_count": 37,
   "metadata": {},
   "outputs": [],
   "source": [
    "X_train, X_test, y_train, y_test = train_test_split(X,\n",
    "                                                    y,\n",
    "                                                    test_size=0.2,\n",
    "                                                    random_state=42)"
   ]
  },
  {
   "cell_type": "markdown",
   "metadata": {},
   "source": [
    "- Train the model - the exact accuracy is not of big importance here"
   ]
  },
  {
   "cell_type": "markdown",
   "metadata": {},
   "source": [
    "Random Forest Regressor"
   ]
  },
  {
   "cell_type": "code",
   "execution_count": 38,
   "metadata": {},
   "outputs": [],
   "source": [
    "params = {'min_samples_split':[2,4,6],'max_depth':[3,5,8,13,21]}\n",
    "rf_regressor = GridSearchCV(RandomForestRegressor(), params)"
   ]
  },
  {
   "cell_type": "code",
   "execution_count": 39,
   "metadata": {},
   "outputs": [
    {
     "data": {
      "text/plain": [
       "{'max_depth': 8, 'min_samples_split': 4}"
      ]
     },
     "execution_count": 39,
     "metadata": {},
     "output_type": "execute_result"
    }
   ],
   "source": [
    "rf_regressor.fit(X_train, y_train)\n",
    "rf_regressor.best_params_"
   ]
  },
  {
   "cell_type": "code",
   "execution_count": 40,
   "metadata": {},
   "outputs": [],
   "source": [
    "rf = RandomForestRegressor(max_depth=8, min_samples_split=2)\n",
    "rf.fit(X_train, y_train)\n",
    "y_pred_rf = rf.predict(X_test)"
   ]
  },
  {
   "cell_type": "markdown",
   "metadata": {},
   "source": [
    "- Do a few predictions of the model locally"
   ]
  },
  {
   "cell_type": "code",
   "execution_count": 41,
   "metadata": {
    "scrolled": true
   },
   "outputs": [
    {
     "data": {
      "text/plain": [
       "243800.00138012745"
      ]
     },
     "execution_count": 41,
     "metadata": {},
     "output_type": "execute_result"
    }
   ],
   "source": [
    "rmsd_rf = mean_squared_error(y_test, y_pred_rf, squared=False)\n",
    "rmsd_rf"
   ]
  },
  {
   "cell_type": "code",
   "execution_count": 42,
   "metadata": {},
   "outputs": [
    {
     "data": {
      "text/plain": [
       "0.7747426492874683"
      ]
     },
     "execution_count": 42,
     "metadata": {},
     "output_type": "execute_result"
    }
   ],
   "source": [
    "r2_score(y_test, y_pred_rf)"
   ]
  },
  {
   "cell_type": "code",
   "execution_count": 43,
   "metadata": {},
   "outputs": [
    {
     "data": {
      "text/plain": [
       "2696     800000.0\n",
       "205      425000.0\n",
       "3287    1600000.0\n",
       "1529     250000.0\n",
       "3438     570000.0\n",
       "          ...    \n",
       "739      229999.0\n",
       "494      310000.0\n",
       "3822     125000.0\n",
       "1185     610000.0\n",
       "1666     368000.0\n",
       "Name: selling_price, Length: 713, dtype: float64"
      ]
     },
     "execution_count": 43,
     "metadata": {},
     "output_type": "execute_result"
    }
   ],
   "source": [
    "y_test"
   ]
  },
  {
   "cell_type": "markdown",
   "metadata": {},
   "source": [
    "This code will run on the **training server**"
   ]
  },
  {
   "cell_type": "markdown",
   "metadata": {},
   "source": [
    "## 2. Save you model, predict with saved model"
   ]
  },
  {
   "cell_type": "markdown",
   "metadata": {},
   "source": [
    "Simulate in this notebook code that will happen during training on the **training server**:\n",
    "- Using `pickle`, save your model to disk. Reference: https://scikit-learn.org/stable/modules/model_persistence.html"
   ]
  },
  {
   "cell_type": "code",
   "execution_count": 44,
   "metadata": {},
   "outputs": [],
   "source": [
    "import pickle"
   ]
  },
  {
   "cell_type": "code",
   "execution_count": 45,
   "metadata": {},
   "outputs": [],
   "source": [
    "filename = 'finalized_model.pickle'\n",
    "pickle.dump(rf, open(filename, 'wb'))"
   ]
  },
  {
   "cell_type": "markdown",
   "metadata": {},
   "source": [
    "- Save the test dataset to file.  What's a good format(s) for saving datasets?"
   ]
  },
  {
   "cell_type": "code",
   "execution_count": 46,
   "metadata": {},
   "outputs": [],
   "source": [
    "test_set = pd.concat([X_test, y_test], axis=1) "
   ]
  },
  {
   "cell_type": "code",
   "execution_count": 47,
   "metadata": {},
   "outputs": [],
   "source": [
    "test_set.to_pickle('my_test_set.pickle')"
   ]
  },
  {
   "cell_type": "markdown",
   "metadata": {},
   "source": [
    "Simulate in this notebook code that will happen during inference on the **inference server**:\n",
    "- Load the model again with `pickle`."
   ]
  },
  {
   "cell_type": "code",
   "execution_count": 48,
   "metadata": {},
   "outputs": [],
   "source": [
    "# load the model from disk\n",
    "loaded_model = pickle.load(open('finalized_model.pickle', 'rb'))"
   ]
  },
  {
   "cell_type": "markdown",
   "metadata": {},
   "source": [
    "- Read the test dataset file, and perform some predictions\n",
    "- Compare the predictions received before saving the model, and after reading a saved model.  Show that you get the same results. "
   ]
  },
  {
   "cell_type": "code",
   "execution_count": 49,
   "metadata": {},
   "outputs": [],
   "source": [
    "loaded_data = pickle.load(open('my_test_set.pickle', 'rb'))\n",
    "loaded_y_test = loaded_data['selling_price']\n",
    "loaded_X_test = loaded_data.drop('selling_price', axis=1)"
   ]
  },
  {
   "cell_type": "code",
   "execution_count": 50,
   "metadata": {
    "scrolled": true
   },
   "outputs": [
    {
     "data": {
      "text/plain": [
       "0.7747426492874683"
      ]
     },
     "execution_count": 50,
     "metadata": {},
     "output_type": "execute_result"
    }
   ],
   "source": [
    "loaded_model.score(loaded_X_test, loaded_y_test)"
   ]
  },
  {
   "cell_type": "markdown",
   "metadata": {},
   "source": [
    "Amazing!!! we got the same prediction as we received before"
   ]
  },
  {
   "cell_type": "markdown",
   "metadata": {},
   "source": [
    "## 3. Serve your model"
   ]
  },
  {
   "cell_type": "markdown",
   "metadata": {},
   "source": [
    "Now we are done with **training server**, since we have the saved model.  From now all that's relevant is **inference server** and **client** code.\n",
    "\n",
    "Let's create the **inference server** that answers to REST APIs with predictions:"
   ]
  },
  {
   "cell_type": "markdown",
   "metadata": {},
   "source": [
    "- Using `flask`, create a Pycharm project and implement the following prediction API:\n",
    "- **Single prediction API** that receives inputs as parameters (no body), and returns a single prediction as a string / text.  \n",
    "- Example: http://localhost:5000/predict_single?key1=value1&key2=value2 (replace `key1`, `value1` etc. names with your relevant feature names and values)\n",
    "- Consider what's the best place in your code to put the code that reads from the model.  Why?\n",
    "- In general, take runtime efficiency into account.  Your API might be called large number of times per second, and you will be paying for more inference servers if your code is not efficient.\n",
    "- Copy your **inference server** code also here for reference"
   ]
  },
  {
   "cell_type": "markdown",
   "metadata": {},
   "source": [
    "from flask import Flask\\\n",
    "from flask import request\\\n",
    "import pickle\\\n",
    "\n",
    "app = Flask(__name__)\\\n",
    "\n",
    "\n",
    "@app.route('/predict_single')\\\n",
    "def predict_single():\\\n",
    "    year = int(request.args.get('year'))\\\n",
    "    km_driven = int(request.args.get('km_driven'))\\\n",
    "    owner = int(request.args.get('owner'))\\\n",
    "    name_Chevrolet = int(request.args.get('name_Chevrolet'))\\\n",
    "    name_Ford = int(request.args.get('name_Ford'))\\\n",
    "    name_Honda = int(request.args.get('name_Honda'))\\\n",
    "    name_Hyundai = int(request.args.get('name_Hyundai'))\\\n",
    "    name_Mahindra = int(request.args.get('name_Mahindra'))\\\n",
    "    name_Maruti = int(request.args.get('name_Maruti'))\\\n",
    "    name_Nissan = int(request.args.get('name_Nissan'))\\\n",
    "    name_Other = int(request.args.get('name_Other'))\\\n",
    "    name_Renault = int(request.args.get('name_Renault'))\\\n",
    "    name_Skoda = int(request.args.get('name_Skoda'))\\\n",
    "    name_Tata = int(request.args.get('name_Tata'))\\\n",
    "    name_Toyota = int(request.args.get('name_Toyota'))\\\n",
    "    name_Volkswagen = int(request.args.get('name_Volkswagen'))\\\n",
    "    fuel_Diesel = int(request.args.get('fuel_Diesel'))\\\n",
    "    fuel_Other = int(request.args.get('fuel_Other'))\\\n",
    "    fuel_Petrol = int(request.args.get('fuel_Petrol'))\\\n",
    "    seller_type_Dealer = int(request.args.get('seller_type_Dealer'))\\\n",
    "    seller_type_Individual = int(request.args.get('seller_type_Individual'))\\\n",
    "    transmission_Automatic = int(request.args.get('transmission_Automatic'))\\\n",
    "    transmission_Manual = int(request.args.get('transmission_Manual'))\\\n",
    "\n",
    "    # load model from file\n",
    "    loaded_model = pickle.load(open('finalized_model.pickle', 'rb'))\n",
    "    names = [year, km_driven, owner, name_Chevrolet, name_Ford,\n",
    "             name_Honda, name_Hyundai, name_Mahindra, name_Maruti,\n",
    "             name_Nissan, name_Other, name_Renault, name_Skoda, name_Tata,\n",
    "             name_Toyota, name_Volkswagen, fuel_Diesel, fuel_Other,\n",
    "             fuel_Petrol, seller_type_Dealer, seller_type_Individual,\n",
    "             transmission_Automatic, transmission_Manual]\n",
    "    y_pred = loaded_model.predict([names])\n",
    "    return str(y_pred)[0]\n",
    "\n",
    "\n",
    "\n",
    "if __name__ == '__main__':\\\n",
    "    app.run(debug=True)"
   ]
  },
  {
   "cell_type": "markdown",
   "metadata": {},
   "source": [
    "## 4. Consume your model with python"
   ]
  },
  {
   "cell_type": "markdown",
   "metadata": {},
   "source": [
    "Use Python `requests` module from here to make a prediction.  **Print input and output of the prediction.**\n",
    "\n",
    "**Warning**: don't get used to seeing it in a Jupyter notebook.  This code will usually run inside a **client application**"
   ]
  },
  {
   "cell_type": "code",
   "execution_count": 51,
   "metadata": {},
   "outputs": [
    {
     "name": "stdout",
     "output_type": "stream",
     "text": [
      "URL - \n",
      "http://127.0.0.1:5000/predict_single\n",
      "\n",
      "523530.2332754636\n"
     ]
    }
   ],
   "source": [
    "import requests\n",
    "\n",
    "payload =     {\n",
    "        \"year\": 2012,\n",
    "        \"km_driven\": 180000,\n",
    "        \"owner\": 1,\n",
    "        \"name_Chevrolet\": 0,\n",
    "        \"name_Ford\": 0,\n",
    "        \"name_Honda\": 0,\n",
    "        \"name_Hyundai\": 0,\n",
    "        \"name_Mahindra\": 0,\n",
    "        \"name_Maruti\": 0,\n",
    "        \"name_Nissan\": 0,\n",
    "        \"name_Other\": 0,\n",
    "        \"name_Renault\": 0,\n",
    "        \"name_Skoda\": 0,\n",
    "        \"name_Tata\": 0,\n",
    "        \"name_Toyota\": 1,\n",
    "        \"name_Volkswagen\": 0,\n",
    "        \"fuel_Diesel\": 1,\n",
    "        \"fuel_Other\": 0,\n",
    "        \"fuel_Petrol\": 0,\n",
    "        \"seller_type_Dealer\": 0,\n",
    "        \"seller_type_Individual\": 1,\n",
    "        \"transmission_Automatic\": 0,\n",
    "        \"transmission_Manual\": 1\n",
    "    }\n",
    "\n",
    "url = 'http://127.0.0.1:5000/predict_single'\n",
    "res = requests.get(url, params=payload).text\n",
    "print(f'URL - \\n{url}\\n')\n",
    "print(res)"
   ]
  },
  {
   "cell_type": "markdown",
   "metadata": {},
   "source": [
    "## 5. Using JSON files"
   ]
  },
  {
   "cell_type": "markdown",
   "metadata": {},
   "source": [
    "- Using `flask`, add code to your previous file in Pycharm **with inference code** to create the following prediction API (in addition to **Single prediction API** done above):\n",
    "- **Multiple prediction API** that receives input many observations to predict on as a json file in the body, and returns a json file with predictions.\n",
    "- Your **JSON** file format has to be efficient, clear and following JSON file syntax: \n",
    "  - JSON file is a nested structure of potentially multiple dictionaries and lists \n",
    "  - JSON file tip: Use lists, every member in the list can be a dictionary of all the features.  \n",
    "  - JSON file tip: Do not put indexes of predictions into the JSON files, indexes of predictions can be easily computed with Python code later \n",
    "  - JSON files are sometimes slightly verbose, but are extremely human readable.  Just looking at your JSON files of input and output, is it possible to understand what were the observations in input and what were the predictions in output?\n",
    "  - See https://www.json.org/json-en.html for JSON format\n",
    "- Think about efficiency of your code - your REST API might be called a huge number of times, with a huge number of observations every time.  Can part of the code be done only once?  Can you predict on everything together? Can you do less or cheaper data conversions?\n",
    "- Example of URL that will be used to predict: http://localhost:5000/predict\n",
    "- Reference for working with JSONs in Flask: https://pythonise.com/series/learning-flask/working-with-json-in-flask\n",
    "- Do you need a GET or a POST type of REST API call? Does it change what you did in step 3?  Conceptually, would you say it makes sense to use GET or POST types for predictions?\n",
    "- Copy your **inference server** code also here for reference "
   ]
  },
  {
   "cell_type": "code",
   "execution_count": 52,
   "metadata": {},
   "outputs": [],
   "source": [
    "# JSON POSTED - \n",
    "# [\n",
    "#     {\n",
    "#         \"year\": 2012.0,\n",
    "#         \"km_driven\": 180000.0,\n",
    "#         \"owner\": 1.0,\n",
    "#         \"name_Chevrolet\": 0.0,\n",
    "#         \"name_Ford\": 0.0,\n",
    "#         \"name_Honda\": 0.0,\n",
    "#         \"name_Hyundai\": 0.0,\n",
    "#         \"name_Mahindra\": 0.0,\n",
    "#         \"name_Maruti\": 0.0,\n",
    "#         \"name_Nissan\": 0.0,\n",
    "#         \"name_Other\": 0.0,\n",
    "#         \"name_Renault\": 0.0,\n",
    "#         \"name_Skoda\": 0.0,\n",
    "#         \"name_Tata\": 0.0,\n",
    "#         \"name_Toyota\": 1.0,\n",
    "#         \"name_Volkswagen\": 0.0,\n",
    "#         \"fuel_Diesel\": 1.0,\n",
    "#         \"fuel_Other\": 0.0,\n",
    "#         \"fuel_Petrol\": 0.0,\n",
    "#         \"seller_type_Dealer\": 0.0,\n",
    "#         \"seller_type_Individual\": 1.0,\n",
    "#         \"transmission_Automatic\": 0.0,\n",
    "#         \"transmission_Manual\": 1.0\n",
    "#     },\n",
    "#     {\n",
    "#         \"year\": 2013.0,\n",
    "#         \"km_driven\": 20000.0,\n",
    "#         \"owner\": 1.0,\n",
    "#         \"name_Chevrolet\": 1.0,\n",
    "#         \"name_Ford\": 0.0,\n",
    "#         \"name_Honda\": 0.0,\n",
    "#         \"name_Hyundai\": 0.0,\n",
    "#         \"name_Mahindra\": 0.0,\n",
    "#         \"name_Maruti\": 0.0,\n",
    "#         \"name_Nissan\": 0.0,\n",
    "#         \"name_Other\": 0.0,\n",
    "#         \"name_Renault\": 0.0,\n",
    "#         \"name_Skoda\": 0.0,\n",
    "#         \"name_Tata\": 0.0,\n",
    "#         \"name_Toyota\": 0.0,\n",
    "#         \"name_Volkswagen\": 0.0,\n",
    "#         \"fuel_Diesel\": 1.0,\n",
    "#         \"fuel_Other\": 0.0,\n",
    "#         \"fuel_Petrol\": 0.0,\n",
    "#         \"seller_type_Dealer\": 1.0,\n",
    "#         \"seller_type_Individual\": 0.0,\n",
    "#         \"transmission_Automatic\": 0.0,\n",
    "#         \"transmission_Manual\": 1.0\n",
    "#     },\n",
    "#     {\n",
    "#         \"year\": 2018.0,\n",
    "#         \"km_driven\": 40000.0,\n",
    "#         \"owner\": 1.0,\n",
    "#         \"name_Chevrolet\": 0.0,\n",
    "#         \"name_Ford\": 0.0,\n",
    "#         \"name_Honda\": 0.0,\n",
    "#         \"name_Hyundai\": 1.0,\n",
    "#         \"name_Mahindra\": 0.0,\n",
    "#         \"name_Maruti\": 0.0,\n",
    "#         \"name_Nissan\": 0.0,\n",
    "#         \"name_Other\": 0.0,\n",
    "#         \"name_Renault\": 0.0,\n",
    "#         \"name_Skoda\": 0.0,\n",
    "#         \"name_Tata\": 0.0,\n",
    "#         \"name_Toyota\": 0.0,\n",
    "#         \"name_Volkswagen\": 0.0,\n",
    "#         \"fuel_Diesel\": 1.0,\n",
    "#         \"fuel_Other\": 0.0,\n",
    "#         \"fuel_Petrol\": 0.0,\n",
    "#         \"seller_type_Dealer\": 0.0,\n",
    "#         \"seller_type_Individual\": 1.0,\n",
    "#         \"transmission_Automatic\": 1.0,\n",
    "#         \"transmission_Manual\": 0.0\n",
    "#     },\n",
    "#     {\n",
    "#         \"year\": 2009.0,\n",
    "#         \"km_driven\": 48000.0,\n",
    "#         \"owner\": 1.0,\n",
    "#         \"name_Chevrolet\": 1.0,\n",
    "#         \"name_Ford\": 0.0,\n",
    "#         \"name_Honda\": 0.0,\n",
    "#         \"name_Hyundai\": 0.0,\n",
    "#         \"name_Mahindra\": 0.0,\n",
    "#         \"name_Maruti\": 0.0,\n",
    "#         \"name_Nissan\": 0.0,\n",
    "#         \"name_Other\": 0.0,\n",
    "#         \"name_Renault\": 0.0,\n",
    "#         \"name_Skoda\": 0.0,\n",
    "#         \"name_Tata\": 0.0,\n",
    "#         \"name_Toyota\": 0.0,\n",
    "#         \"name_Volkswagen\": 0.0,\n",
    "#         \"fuel_Diesel\": 0.0,\n",
    "#         \"fuel_Other\": 0.0,\n",
    "#         \"fuel_Petrol\": 1.0,\n",
    "#         \"seller_type_Dealer\": 0.0,\n",
    "#         \"seller_type_Individual\": 1.0,\n",
    "#         \"transmission_Automatic\": 0.0,\n",
    "#         \"transmission_Manual\": 1.0\n",
    "#     },\n",
    "#     {\n",
    "#         \"year\": 2017.0,\n",
    "#         \"km_driven\": 44077.0,\n",
    "#         \"owner\": 1.0,\n",
    "#         \"name_Chevrolet\": 0.0,\n",
    "#         \"name_Ford\": 1.0,\n",
    "#         \"name_Honda\": 0.0,\n",
    "#         \"name_Hyundai\": 0.0,\n",
    "#         \"name_Mahindra\": 0.0,\n",
    "#         \"name_Maruti\": 0.0,\n",
    "#         \"name_Nissan\": 0.0,\n",
    "#         \"name_Other\": 0.0,\n",
    "#         \"name_Renault\": 0.0,\n",
    "#         \"name_Skoda\": 0.0,\n",
    "#         \"name_Tata\": 0.0,\n",
    "#         \"name_Toyota\": 0.0,\n",
    "#         \"name_Volkswagen\": 0.0,\n",
    "#         \"fuel_Diesel\": 0.0,\n",
    "#         \"fuel_Other\": 0.0,\n",
    "#         \"fuel_Petrol\": 1.0,\n",
    "#         \"seller_type_Dealer\": 1.0,\n",
    "#         \"seller_type_Individual\": 0.0,\n",
    "#         \"transmission_Automatic\": 1.0,\n",
    "#         \"transmission_Manual\": 0.0\n",
    "#     },\n",
    "#     {\n",
    "#         \"year\": 2017.0,\n",
    "#         \"km_driven\": 50000.0,\n",
    "#         \"owner\": 1.0,\n",
    "#         \"name_Chevrolet\": 0.0,\n",
    "#         \"name_Ford\": 0.0,\n",
    "#         \"name_Honda\": 0.0,\n",
    "#         \"name_Hyundai\": 0.0,\n",
    "#         \"name_Mahindra\": 0.0,\n",
    "#         \"name_Maruti\": 0.0,\n",
    "#         \"name_Nissan\": 0.0,\n",
    "#         \"name_Other\": 0.0,\n",
    "#         \"name_Renault\": 0.0,\n",
    "#         \"name_Skoda\": 0.0,\n",
    "#         \"name_Tata\": 1.0,\n",
    "#         \"name_Toyota\": 0.0,\n",
    "#         \"name_Volkswagen\": 0.0,\n",
    "#         \"fuel_Diesel\": 1.0,\n",
    "#         \"fuel_Other\": 0.0,\n",
    "#         \"fuel_Petrol\": 0.0,\n",
    "#         \"seller_type_Dealer\": 0.0,\n",
    "#         \"seller_type_Individual\": 1.0,\n",
    "#         \"transmission_Automatic\": 1.0,\n",
    "#         \"transmission_Manual\": 0.0\n",
    "#     },\n",
    "#     {\n",
    "#         \"year\": 2008.0,\n",
    "#         \"km_driven\": 60000.0,\n",
    "#         \"owner\": 2.0,\n",
    "#         \"name_Chevrolet\": 0.0,\n",
    "#         \"name_Ford\": 0.0,\n",
    "#         \"name_Honda\": 0.0,\n",
    "#         \"name_Hyundai\": 0.0,\n",
    "#         \"name_Mahindra\": 0.0,\n",
    "#         \"name_Maruti\": 1.0,\n",
    "#         \"name_Nissan\": 0.0,\n",
    "#         \"name_Other\": 0.0,\n",
    "#         \"name_Renault\": 0.0,\n",
    "#         \"name_Skoda\": 0.0,\n",
    "#         \"name_Tata\": 0.0,\n",
    "#         \"name_Toyota\": 0.0,\n",
    "#         \"name_Volkswagen\": 0.0,\n",
    "#         \"fuel_Diesel\": 0.0,\n",
    "#         \"fuel_Other\": 0.0,\n",
    "#         \"fuel_Petrol\": 1.0,\n",
    "#         \"seller_type_Dealer\": 0.0,\n",
    "#         \"seller_type_Individual\": 1.0,\n",
    "#         \"transmission_Automatic\": 0.0,\n",
    "#         \"transmission_Manual\": 1.0\n",
    "#     },\n",
    "#     {\n",
    "#         \"year\": 2012.0,\n",
    "#         \"km_driven\": 110000.0,\n",
    "#         \"owner\": 3.0,\n",
    "#         \"name_Chevrolet\": 0.0,\n",
    "#         \"name_Ford\": 0.0,\n",
    "#         \"name_Honda\": 0.0,\n",
    "#         \"name_Hyundai\": 1.0,\n",
    "#         \"name_Mahindra\": 0.0,\n",
    "#         \"name_Maruti\": 0.0,\n",
    "#         \"name_Nissan\": 0.0,\n",
    "#         \"name_Other\": 0.0,\n",
    "#         \"name_Renault\": 0.0,\n",
    "#         \"name_Skoda\": 0.0,\n",
    "#         \"name_Tata\": 0.0,\n",
    "#         \"name_Toyota\": 0.0,\n",
    "#         \"name_Volkswagen\": 0.0,\n",
    "#         \"fuel_Diesel\": 0.0,\n",
    "#         \"fuel_Other\": 0.0,\n",
    "#         \"fuel_Petrol\": 1.0,\n",
    "#         \"seller_type_Dealer\": 0.0,\n",
    "#         \"seller_type_Individual\": 1.0,\n",
    "#         \"transmission_Automatic\": 0.0,\n",
    "#         \"transmission_Manual\": 1.0\n",
    "#     },\n",
    "#     {\n",
    "#         \"year\": 2020.0,\n",
    "#         \"km_driven\": 20000.0,\n",
    "#         \"owner\": 1.0,\n",
    "#         \"name_Chevrolet\": 0.0,\n",
    "#         \"name_Ford\": 0.0,\n",
    "#         \"name_Honda\": 0.0,\n",
    "#         \"name_Hyundai\": 0.0,\n",
    "#         \"name_Mahindra\": 0.0,\n",
    "#         \"name_Maruti\": 0.0,\n",
    "#         \"name_Nissan\": 0.0,\n",
    "#         \"name_Other\": 0.0,\n",
    "#         \"name_Renault\": 1.0,\n",
    "#         \"name_Skoda\": 0.0,\n",
    "#         \"name_Tata\": 0.0,\n",
    "#         \"name_Toyota\": 0.0,\n",
    "#         \"name_Volkswagen\": 0.0,\n",
    "#         \"fuel_Diesel\": 0.0,\n",
    "#         \"fuel_Other\": 0.0,\n",
    "#         \"fuel_Petrol\": 1.0,\n",
    "#         \"seller_type_Dealer\": 0.0,\n",
    "#         \"seller_type_Individual\": 1.0,\n",
    "#         \"transmission_Automatic\": 0.0,\n",
    "#         \"transmission_Manual\": 1.0\n",
    "#     },\n",
    "#     {\n",
    "#         \"year\": 2012.0,\n",
    "#         \"km_driven\": 167870.0,\n",
    "#         \"owner\": 2.0,\n",
    "#         \"name_Chevrolet\": 0.0,\n",
    "#         \"name_Ford\": 0.0,\n",
    "#         \"name_Honda\": 0.0,\n",
    "#         \"name_Hyundai\": 0.0,\n",
    "#         \"name_Mahindra\": 0.0,\n",
    "#         \"name_Maruti\": 0.0,\n",
    "#         \"name_Nissan\": 0.0,\n",
    "#         \"name_Other\": 1.0,\n",
    "#         \"name_Renault\": 0.0,\n",
    "#         \"name_Skoda\": 0.0,\n",
    "#         \"name_Tata\": 0.0,\n",
    "#         \"name_Toyota\": 0.0,\n",
    "#         \"name_Volkswagen\": 0.0,\n",
    "#         \"fuel_Diesel\": 1.0,\n",
    "#         \"fuel_Other\": 0.0,\n",
    "#         \"fuel_Petrol\": 0.0,\n",
    "#         \"seller_type_Dealer\": 1.0,\n",
    "#         \"seller_type_Individual\": 0.0,\n",
    "#         \"transmission_Automatic\": 0.0,\n",
    "#         \"transmission_Manual\": 1.0\n",
    "#     }\n",
    "# ]\n"
   ]
  },
  {
   "cell_type": "markdown",
   "metadata": {},
   "source": [
    "PYCHARM CODE - \n",
    "\n",
    "from flask import Flask\\\n",
    "from flask import request\\\n",
    "import json\\\n",
    "import pickle\\\n",
    "import pandas as pd\\\n",
    "\n",
    "app = Flask(__name__)\n",
    "\n",
    "@app.route(\"/json\", methods=[\"POST\"])\\\n",
    "def Multiple_prediction():\n",
    ">   req = request.get_json()\\\n",
    "    loaded_model = pickle.load(open('finalized_model.pickle', 'rb'))\\\n",
    "    df_req = pd.DataFrame.from_dict(req)\\\n",
    "    y_pred = loaded_model.predict(df_req)\\\n",
    "    y_pred = y_pred.tolist()\\\n",
    "    response = json.dumps(y_pred)\\\n",
    "    return str(response)\n",
    "\n",
    "\n",
    "if __name__ == '__main__':\\\n",
    "    app.run(debug=True)"
   ]
  },
  {
   "cell_type": "markdown",
   "metadata": {},
   "source": [
    "RESPONSE - \\\n",
    "[523530.2332754636, 265860.0257208956, 1045021.3575718963, 163405.16794817246, 965442.2482254325, 869206.2660351413,\n",
    "139819.60042510863, 248623.94310221533, 417243.0835261693, 546851.9575281423]"
   ]
  },
  {
   "cell_type": "code",
   "execution_count": 53,
   "metadata": {},
   "outputs": [
    {
     "data": {
      "text/plain": [
       "[{'year': 2012.0,\n",
       "  'km_driven': 180000.0,\n",
       "  'owner': 1.0,\n",
       "  'name_Chevrolet': 0.0,\n",
       "  'name_Ford': 0.0,\n",
       "  'name_Honda': 0.0,\n",
       "  'name_Hyundai': 0.0,\n",
       "  'name_Mahindra': 0.0,\n",
       "  'name_Maruti': 0.0,\n",
       "  'name_Nissan': 0.0,\n",
       "  'name_Other': 0.0,\n",
       "  'name_Renault': 0.0,\n",
       "  'name_Skoda': 0.0,\n",
       "  'name_Tata': 0.0,\n",
       "  'name_Toyota': 1.0,\n",
       "  'name_Volkswagen': 0.0,\n",
       "  'fuel_Diesel': 1.0,\n",
       "  'fuel_Other': 0.0,\n",
       "  'fuel_Petrol': 0.0,\n",
       "  'seller_type_Dealer': 0.0,\n",
       "  'seller_type_Individual': 1.0,\n",
       "  'transmission_Automatic': 0.0,\n",
       "  'transmission_Manual': 1.0},\n",
       " {'year': 2013.0,\n",
       "  'km_driven': 20000.0,\n",
       "  'owner': 1.0,\n",
       "  'name_Chevrolet': 1.0,\n",
       "  'name_Ford': 0.0,\n",
       "  'name_Honda': 0.0,\n",
       "  'name_Hyundai': 0.0,\n",
       "  'name_Mahindra': 0.0,\n",
       "  'name_Maruti': 0.0,\n",
       "  'name_Nissan': 0.0,\n",
       "  'name_Other': 0.0,\n",
       "  'name_Renault': 0.0,\n",
       "  'name_Skoda': 0.0,\n",
       "  'name_Tata': 0.0,\n",
       "  'name_Toyota': 0.0,\n",
       "  'name_Volkswagen': 0.0,\n",
       "  'fuel_Diesel': 1.0,\n",
       "  'fuel_Other': 0.0,\n",
       "  'fuel_Petrol': 0.0,\n",
       "  'seller_type_Dealer': 1.0,\n",
       "  'seller_type_Individual': 0.0,\n",
       "  'transmission_Automatic': 0.0,\n",
       "  'transmission_Manual': 1.0},\n",
       " {'year': 2018.0,\n",
       "  'km_driven': 40000.0,\n",
       "  'owner': 1.0,\n",
       "  'name_Chevrolet': 0.0,\n",
       "  'name_Ford': 0.0,\n",
       "  'name_Honda': 0.0,\n",
       "  'name_Hyundai': 1.0,\n",
       "  'name_Mahindra': 0.0,\n",
       "  'name_Maruti': 0.0,\n",
       "  'name_Nissan': 0.0,\n",
       "  'name_Other': 0.0,\n",
       "  'name_Renault': 0.0,\n",
       "  'name_Skoda': 0.0,\n",
       "  'name_Tata': 0.0,\n",
       "  'name_Toyota': 0.0,\n",
       "  'name_Volkswagen': 0.0,\n",
       "  'fuel_Diesel': 1.0,\n",
       "  'fuel_Other': 0.0,\n",
       "  'fuel_Petrol': 0.0,\n",
       "  'seller_type_Dealer': 0.0,\n",
       "  'seller_type_Individual': 1.0,\n",
       "  'transmission_Automatic': 1.0,\n",
       "  'transmission_Manual': 0.0},\n",
       " {'year': 2009.0,\n",
       "  'km_driven': 48000.0,\n",
       "  'owner': 1.0,\n",
       "  'name_Chevrolet': 1.0,\n",
       "  'name_Ford': 0.0,\n",
       "  'name_Honda': 0.0,\n",
       "  'name_Hyundai': 0.0,\n",
       "  'name_Mahindra': 0.0,\n",
       "  'name_Maruti': 0.0,\n",
       "  'name_Nissan': 0.0,\n",
       "  'name_Other': 0.0,\n",
       "  'name_Renault': 0.0,\n",
       "  'name_Skoda': 0.0,\n",
       "  'name_Tata': 0.0,\n",
       "  'name_Toyota': 0.0,\n",
       "  'name_Volkswagen': 0.0,\n",
       "  'fuel_Diesel': 0.0,\n",
       "  'fuel_Other': 0.0,\n",
       "  'fuel_Petrol': 1.0,\n",
       "  'seller_type_Dealer': 0.0,\n",
       "  'seller_type_Individual': 1.0,\n",
       "  'transmission_Automatic': 0.0,\n",
       "  'transmission_Manual': 1.0},\n",
       " {'year': 2017.0,\n",
       "  'km_driven': 44077.0,\n",
       "  'owner': 1.0,\n",
       "  'name_Chevrolet': 0.0,\n",
       "  'name_Ford': 1.0,\n",
       "  'name_Honda': 0.0,\n",
       "  'name_Hyundai': 0.0,\n",
       "  'name_Mahindra': 0.0,\n",
       "  'name_Maruti': 0.0,\n",
       "  'name_Nissan': 0.0,\n",
       "  'name_Other': 0.0,\n",
       "  'name_Renault': 0.0,\n",
       "  'name_Skoda': 0.0,\n",
       "  'name_Tata': 0.0,\n",
       "  'name_Toyota': 0.0,\n",
       "  'name_Volkswagen': 0.0,\n",
       "  'fuel_Diesel': 0.0,\n",
       "  'fuel_Other': 0.0,\n",
       "  'fuel_Petrol': 1.0,\n",
       "  'seller_type_Dealer': 1.0,\n",
       "  'seller_type_Individual': 0.0,\n",
       "  'transmission_Automatic': 1.0,\n",
       "  'transmission_Manual': 0.0},\n",
       " {'year': 2017.0,\n",
       "  'km_driven': 50000.0,\n",
       "  'owner': 1.0,\n",
       "  'name_Chevrolet': 0.0,\n",
       "  'name_Ford': 0.0,\n",
       "  'name_Honda': 0.0,\n",
       "  'name_Hyundai': 0.0,\n",
       "  'name_Mahindra': 0.0,\n",
       "  'name_Maruti': 0.0,\n",
       "  'name_Nissan': 0.0,\n",
       "  'name_Other': 0.0,\n",
       "  'name_Renault': 0.0,\n",
       "  'name_Skoda': 0.0,\n",
       "  'name_Tata': 1.0,\n",
       "  'name_Toyota': 0.0,\n",
       "  'name_Volkswagen': 0.0,\n",
       "  'fuel_Diesel': 1.0,\n",
       "  'fuel_Other': 0.0,\n",
       "  'fuel_Petrol': 0.0,\n",
       "  'seller_type_Dealer': 0.0,\n",
       "  'seller_type_Individual': 1.0,\n",
       "  'transmission_Automatic': 1.0,\n",
       "  'transmission_Manual': 0.0},\n",
       " {'year': 2008.0,\n",
       "  'km_driven': 60000.0,\n",
       "  'owner': 2.0,\n",
       "  'name_Chevrolet': 0.0,\n",
       "  'name_Ford': 0.0,\n",
       "  'name_Honda': 0.0,\n",
       "  'name_Hyundai': 0.0,\n",
       "  'name_Mahindra': 0.0,\n",
       "  'name_Maruti': 1.0,\n",
       "  'name_Nissan': 0.0,\n",
       "  'name_Other': 0.0,\n",
       "  'name_Renault': 0.0,\n",
       "  'name_Skoda': 0.0,\n",
       "  'name_Tata': 0.0,\n",
       "  'name_Toyota': 0.0,\n",
       "  'name_Volkswagen': 0.0,\n",
       "  'fuel_Diesel': 0.0,\n",
       "  'fuel_Other': 0.0,\n",
       "  'fuel_Petrol': 1.0,\n",
       "  'seller_type_Dealer': 0.0,\n",
       "  'seller_type_Individual': 1.0,\n",
       "  'transmission_Automatic': 0.0,\n",
       "  'transmission_Manual': 1.0},\n",
       " {'year': 2012.0,\n",
       "  'km_driven': 110000.0,\n",
       "  'owner': 3.0,\n",
       "  'name_Chevrolet': 0.0,\n",
       "  'name_Ford': 0.0,\n",
       "  'name_Honda': 0.0,\n",
       "  'name_Hyundai': 1.0,\n",
       "  'name_Mahindra': 0.0,\n",
       "  'name_Maruti': 0.0,\n",
       "  'name_Nissan': 0.0,\n",
       "  'name_Other': 0.0,\n",
       "  'name_Renault': 0.0,\n",
       "  'name_Skoda': 0.0,\n",
       "  'name_Tata': 0.0,\n",
       "  'name_Toyota': 0.0,\n",
       "  'name_Volkswagen': 0.0,\n",
       "  'fuel_Diesel': 0.0,\n",
       "  'fuel_Other': 0.0,\n",
       "  'fuel_Petrol': 1.0,\n",
       "  'seller_type_Dealer': 0.0,\n",
       "  'seller_type_Individual': 1.0,\n",
       "  'transmission_Automatic': 0.0,\n",
       "  'transmission_Manual': 1.0},\n",
       " {'year': 2020.0,\n",
       "  'km_driven': 20000.0,\n",
       "  'owner': 1.0,\n",
       "  'name_Chevrolet': 0.0,\n",
       "  'name_Ford': 0.0,\n",
       "  'name_Honda': 0.0,\n",
       "  'name_Hyundai': 0.0,\n",
       "  'name_Mahindra': 0.0,\n",
       "  'name_Maruti': 0.0,\n",
       "  'name_Nissan': 0.0,\n",
       "  'name_Other': 0.0,\n",
       "  'name_Renault': 1.0,\n",
       "  'name_Skoda': 0.0,\n",
       "  'name_Tata': 0.0,\n",
       "  'name_Toyota': 0.0,\n",
       "  'name_Volkswagen': 0.0,\n",
       "  'fuel_Diesel': 0.0,\n",
       "  'fuel_Other': 0.0,\n",
       "  'fuel_Petrol': 1.0,\n",
       "  'seller_type_Dealer': 0.0,\n",
       "  'seller_type_Individual': 1.0,\n",
       "  'transmission_Automatic': 0.0,\n",
       "  'transmission_Manual': 1.0},\n",
       " {'year': 2012.0,\n",
       "  'km_driven': 167870.0,\n",
       "  'owner': 2.0,\n",
       "  'name_Chevrolet': 0.0,\n",
       "  'name_Ford': 0.0,\n",
       "  'name_Honda': 0.0,\n",
       "  'name_Hyundai': 0.0,\n",
       "  'name_Mahindra': 0.0,\n",
       "  'name_Maruti': 0.0,\n",
       "  'name_Nissan': 0.0,\n",
       "  'name_Other': 1.0,\n",
       "  'name_Renault': 0.0,\n",
       "  'name_Skoda': 0.0,\n",
       "  'name_Tata': 0.0,\n",
       "  'name_Toyota': 0.0,\n",
       "  'name_Volkswagen': 0.0,\n",
       "  'fuel_Diesel': 1.0,\n",
       "  'fuel_Other': 0.0,\n",
       "  'fuel_Petrol': 0.0,\n",
       "  'seller_type_Dealer': 1.0,\n",
       "  'seller_type_Individual': 0.0,\n",
       "  'transmission_Automatic': 0.0,\n",
       "  'transmission_Manual': 1.0}]"
      ]
     },
     "execution_count": 53,
     "metadata": {},
     "output_type": "execute_result"
    }
   ],
   "source": [
    "rows = []\n",
    "for i in range(10):\n",
    "    rows.append(dict(X_test.iloc[i]))\n",
    "rows"
   ]
  },
  {
   "cell_type": "code",
   "execution_count": 54,
   "metadata": {},
   "outputs": [],
   "source": [
    "url2 = 'http://127.0.0.1:5000/json'"
   ]
  },
  {
   "cell_type": "code",
   "execution_count": 55,
   "metadata": {},
   "outputs": [],
   "source": [
    "res = requests.post(url = url2, json = rows)"
   ]
  },
  {
   "cell_type": "code",
   "execution_count": 56,
   "metadata": {},
   "outputs": [
    {
     "name": "stdout",
     "output_type": "stream",
     "text": [
      "[536121.563644458, 275016.5172095529, 1054381.3041135985, 168702.17525663614, 928291.5685916202, 928823.2220504727, 138981.36640855475, 251235.24633903403, 415692.9026544655, 475291.1570851874]\n"
     ]
    }
   ],
   "source": [
    "print(res.text)"
   ]
  },
  {
   "cell_type": "markdown",
   "metadata": {},
   "source": [
    "## 6. Submit a zip file with:\n",
    "1. This notebook\n",
    "2. Your Python inference server file"
   ]
  }
 ],
 "metadata": {
  "kernelspec": {
   "display_name": "Python 3",
   "language": "python",
   "name": "python3"
  },
  "language_info": {
   "codemirror_mode": {
    "name": "ipython",
    "version": 3
   },
   "file_extension": ".py",
   "mimetype": "text/x-python",
   "name": "python",
   "nbconvert_exporter": "python",
   "pygments_lexer": "ipython3",
   "version": "3.6.10"
  },
  "toc": {
   "base_numbering": 1,
   "nav_menu": {},
   "number_sections": true,
   "sideBar": true,
   "skip_h1_title": false,
   "title_cell": "Table of Contents",
   "title_sidebar": "Contents",
   "toc_cell": false,
   "toc_position": {},
   "toc_section_display": true,
   "toc_window_display": false
  }
 },
 "nbformat": 4,
 "nbformat_minor": 2
}
